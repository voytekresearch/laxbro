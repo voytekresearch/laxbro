{
 "cells": [
  {
   "cell_type": "code",
   "execution_count": 1,
   "metadata": {
    "collapsed": false
   },
   "outputs": [
    {
     "name": "stdout",
     "output_type": "stream",
     "text": [
      "Populating the interactive namespace from numpy and matplotlib\n"
     ]
    }
   ],
   "source": [
    "# settings and modules\n",
    "%config InlineBackend.figure_format = 'retina'\n",
    "%pylab inline\n",
    "from nsaba.nsaba import nsaba\n",
    "from nsaba.nsaba import analysis"
   ]
  },
  {
   "cell_type": "code",
   "execution_count": 2,
   "metadata": {
    "collapsed": false
   },
   "outputs": [
    {
     "name": "stdout",
     "output_type": "stream",
     "text": [
      "This may take a minute or two ...\n",
      "database.txt loaded.\n",
      "features.txt loaded.\n",
      "Nsaba.ns['mni_coords'] initialized.\n",
      "\n",
      "This may take a minute or two ...\n",
      "Initializing gene data from normalized_microarray_donor9861\n",
      "SampleAnnot.csv loaded.\n",
      "MicroarrayExpression.csv loaded.\n",
      "Probes.csv loaded.\n",
      "Nsaba.aba['mni_coords'] initialized.\n",
      "\n",
      "This may take a minute or two ...\n",
      "'ge' dictionary successfully loaded\n"
     ]
    }
   ],
   "source": [
    "ns_path = \"/Users/Torben/Documents/ABI analysis/current_data_new/\"\n",
    "aba_path = '/Users/Torben/Documents/ABI analysis/normalized_microarray_donor9861/'\n",
    "#nsaba.Nsaba.aba_load(aba_path)\n",
    "nsaba.Nsaba.ns_load(ns_path)\n",
    "nsaba.Nsaba.aba_load(aba_path)\n",
    "N = nsaba.Nsaba()\n",
    "N.load_ge_pickle(pkl_file='/Users/Torben/Documents/ABI analysis/normalized_microarray_donor9861/Nsaba_ABA_ge.pkl')"
   ]
  },
  {
   "cell_type": "markdown",
   "metadata": {},
   "source": [
    "#### Loading in terms with given method and smoothing parameters"
   ]
  },
  {
   "cell_type": "code",
   "execution_count": 3,
   "metadata": {
    "collapsed": false
   },
   "outputs": [
    {
     "name": "stdout",
     "output_type": "stream",
     "text": [
      "This may take a few minutes...\n",
      "This may take a few minutes...\n",
      "This may take a few minutes...\n",
      "This may take a few minutes...\n",
      "This may take a few minutes...\n",
      "This may take a few minutes...\n"
     ]
    }
   ],
   "source": [
    "N.get_ns_act('depression', thresh=-1, method='knn',smoothing='sum')\n",
    "N.get_ns_act('dopamine', thresh=-1, method='knn',smoothing='sum')\n",
    "N.get_ns_act('reward', thresh=-1, method='knn',smoothing='sum')\n",
    "N.get_ns_act('serotonin', thresh=-1, method='knn',smoothing='sum')\n",
    "N.get_ns_act('anxiety', thresh=-1, method='knn',smoothing='sum')\n",
    "N.get_ns_act('schizophrenia', thresh=-1, method='knn',smoothing='sum')"
   ]
  },
  {
   "cell_type": "markdown",
   "metadata": {},
   "source": [
    "#### Loading in gene lists"
   ]
  },
  {
   "cell_type": "code",
   "execution_count": 4,
   "metadata": {
    "collapsed": false
   },
   "outputs": [],
   "source": [
    "depression_genes = analysis.load_gene_list('/Users/Torben/Documents/ABI analysis/gene_collections/','DepressionGenes.csv')\n",
    "dopamine_genes = analysis.load_gene_list('/Users/Torben/Documents/ABI analysis/gene_collections/','DopamineGenes2.csv')\n",
    "reward_genes = analysis.load_gene_list('/Users/Torben/Documents/ABI analysis/gene_collections/','rewardGenes2.csv')\n",
    "serotonin_genes = analysis.load_gene_list('/Users/Torben/Documents/ABI analysis/gene_collections/','SerotoninGenes.csv')\n",
    "anxiety_genes = analysis.load_gene_list('/Users/Torben/Documents/ABI analysis/gene_collections/','AnxietyGenes.csv')\n",
    "schizophrenia_genes = analysis.load_gene_list('/Users/Torben/Documents/ABI analysis/gene_collections/','SchizophreniaGenes.csv')"
   ]
  },
  {
   "cell_type": "markdown",
   "metadata": {},
   "source": [
    "#### performing a t test on correlations of genes associated with their term. \n",
    "i.e. are these genes associated with this term more than by chance?\n",
    "I do this with 4 correlation methods: pearson's r, spearman's r, slope of linear regression, and a t test"
   ]
  },
  {
   "cell_type": "code",
   "execution_count": 5,
   "metadata": {
    "collapsed": false
   },
   "outputs": [
    {
     "name": "stdout",
     "output_type": "stream",
     "text": [
      "To use inline plotting functionality in Jupyter, '%matplotlib inline' must be enabled\n",
      "This may take a couple of minutes ...\n",
      "This may take a couple of minutes ...\n",
      "This may take a couple of minutes ...\n",
      "This may take a couple of minutes ...\n",
      "This may take a couple of minutes ...\n",
      "This may take a couple of minutes ...\n",
      "[[ 0.03221204  0.19113684  0.1112404   0.17955216]\n",
      " [ 0.02855893  0.01201999  0.02917607  0.00788237]\n",
      " [ 0.28522727  0.13528047  0.51525944  0.06936555]\n",
      " [ 0.2433367   0.58826992  0.66014865  0.33719902]\n",
      " [ 0.05435975  0.01091574  0.03152745  0.0121238 ]\n",
      " [ 0.66021186  0.33179933  0.25655699  0.32716676]]\n"
     ]
    }
   ],
   "source": [
    "import scipy.stats as stats\n",
    "A = analysis.NsabaAnalysis(N)\n",
    "all_analyses = np.zeros((6,4))\n",
    "methods = ['pearson','spearman','regression','t_test']\n",
    "\n",
    "for m in xrange(len(methods)):\n",
    "    all_analyses[0,m]= stats.ttest_1samp(A.validate_with_t_test('depression',depression_genes,method=methods[m],quant=85)[0],0)[1]\n",
    "    all_analyses[1,m]= stats.ttest_1samp(A.validate_with_t_test('dopamine',dopamine_genes,method=methods[m],quant=85)[0],0)[1]\n",
    "    all_analyses[2,m]= stats.ttest_1samp(A.validate_with_t_test('reward',reward_genes,method=methods[m],quant=85)[0],0)[1]\n",
    "    all_analyses[3,m]= stats.ttest_1samp(A.validate_with_t_test('serotonin',serotonin_genes,method=methods[m],quant=85)[0],0)[1]\n",
    "    all_analyses[4,m]= stats.ttest_1samp(A.validate_with_t_test('anxiety',anxiety_genes,method=methods[m],quant=85)[0],0)[1]\n",
    "    all_analyses[5,m]= stats.ttest_1samp(A.validate_with_t_test('schizophrenia',schizophrenia_genes,method=methods[m],quant=85)[0],0)[1]\n",
    "print all_analyses"
   ]
  },
  {
   "cell_type": "markdown",
   "metadata": {},
   "source": [
    "#### Testing different cutoff values and methods for splitting term/non-term groups for t tests\n",
    "Machine learning methods are kmeans and mixture of gaussians."
   ]
  },
  {
   "cell_type": "code",
   "execution_count": null,
   "metadata": {
    "collapsed": false
   },
   "outputs": [],
   "source": [
    "\n",
    "t_test_analyses = np.zeros((6,6))\n",
    "quants = [50,75,85,95]\n",
    "\n",
    "for q in xrange(len(quants)):\n",
    "    t_test_analyses[0,q]= stats.ttest_1samp(A.validate_with_t_test('depression',depression_genes,quant=quants[q])[0],0)[1]\n",
    "    t_test_analyses[1,q]= stats.ttest_1samp(A.validate_with_t_test('dopamine',dopamine_genes,quant=quants[q])[0],0)[1]\n",
    "    t_test_analyses[2,q]= stats.ttest_1samp(A.validate_with_t_test('reward',reward_genes,quant=quants[q])[0],0)[1]\n",
    "    t_test_analyses[3,q]= stats.ttest_1samp(A.validate_with_t_test('serotonin',serotonin_genes,quant=quants[q])[0],0)[1]\n",
    "    t_test_analyses[4,q]= stats.ttest_1samp(A.validate_with_t_test('anxiety',anxiety_genes,quant=quants[q])[0],0)[1]\n",
    "    t_test_analyses[5,q]= stats.ttest_1samp(A.validate_with_t_test('schizophrenia',schizophrenia_genes,quant=quants[q])[0],0)[1]\n",
    "\n",
    "methods = ['kmeans','mog']\n",
    "for m in xrange(len(methods)):\n",
    "    t_test_analyses[0,m+4]= stats.ttest_1samp(A.validate_with_t_test('depression',depression_genes,split_method=methods[m])[0],0)[1]\n",
    "    t_test_analyses[1,m+4]= stats.ttest_1samp(A.validate_with_t_test('dopamine',dopamine_genes,split_method=methods[m])[0],0)[1]\n",
    "    t_test_analyses[2,m+4]= stats.ttest_1samp(A.validate_with_t_test('reward',reward_genes,split_method=methods[m])[0],0)[1]\n",
    "    t_test_analyses[3,m+4]= stats.ttest_1samp(A.validate_with_t_test('serotonin',serotonin_genes,split_method=methods[m])[0],0)[1]\n",
    "    t_test_analyses[4,m+4]= stats.ttest_1samp(A.validate_with_t_test('anxiety',anxiety_genes,split_method=methods[m])[0],0)[1]\n",
    "    t_test_analyses[5,m+4]= stats.ttest_1samp(A.validate_with_t_test('schizophrenia',schizophrenia_genes,split_method=methods[m])[0],0)[1]\n",
    "    \n",
    "print t_test_analyses"
   ]
  },
  {
   "cell_type": "markdown",
   "metadata": {},
   "source": []
  },
  {
   "cell_type": "code",
   "execution_count": null,
   "metadata": {
    "collapsed": false
   },
   "outputs": [],
   "source": [
    "    "
   ]
  },
  {
   "cell_type": "code",
   "execution_count": 30,
   "metadata": {
    "collapsed": false
   },
   "outputs": [
    {
     "name": "stdout",
     "output_type": "stream",
     "text": [
      "0\n",
      "6\n",
      "5\n",
      "0\n",
      "0\n",
      "0\n"
     ]
    }
   ],
   "source": []
  },
  {
   "cell_type": "code",
   "execution_count": 7,
   "metadata": {
    "collapsed": false
   },
   "outputs": [],
   "source": [
    "import csv\n",
    "\n",
    "with open('/Users/Torben/Documents/ABI analysis/validation/summed_validation.csv', 'wb') as csvfile:\n",
    "    spamwriter = csv.writer(csvfile)\n",
    "    for a in all_analyses:\n",
    "        spamwriter.writerow(a)\n",
    "\n",
    "with open('/Users/Torben/Documents/ABI analysis/validation/summed_validation.csv', 'wb') as csvfile:\n",
    "    spamwriter = csv.writer(csvfile)\n",
    "    for a in t_test_analyses:\n",
    "        spamwriter.writerow(a)"
   ]
  },
  {
   "cell_type": "code",
   "execution_count": 12,
   "metadata": {
    "collapsed": false
   },
   "outputs": [
    {
     "name": "stdout",
     "output_type": "stream",
     "text": [
      "This may take a couple of minutes ...\n"
     ]
    }
   ],
   "source": [
    "a= A.validate_with_t_test('anxiety',anxiety_genes,split_method=methods[m])[0]"
   ]
  },
  {
   "cell_type": "code",
   "execution_count": 8,
   "metadata": {
    "collapsed": false
   },
   "outputs": [
    {
     "data": {
      "text/plain": [
       "[1, 1, 1, 1, 1, 1, 1, 1, 1, 1]"
      ]
     },
     "execution_count": 8,
     "metadata": {},
     "output_type": "execute_result"
    }
   ],
   "source": [
    "[1 for t in xrange(10)]"
   ]
  },
  {
   "cell_type": "code",
   "execution_count": null,
   "metadata": {
    "collapsed": true
   },
   "outputs": [],
   "source": []
  }
 ],
 "metadata": {
  "kernelspec": {
   "display_name": "Python 2",
   "language": "python",
   "name": "python2"
  },
  "language_info": {
   "codemirror_mode": {
    "name": "ipython",
    "version": 2
   },
   "file_extension": ".py",
   "mimetype": "text/x-python",
   "name": "python",
   "nbconvert_exporter": "python",
   "pygments_lexer": "ipython2",
   "version": "2.7.10"
  }
 },
 "nbformat": 4,
 "nbformat_minor": 0
}
