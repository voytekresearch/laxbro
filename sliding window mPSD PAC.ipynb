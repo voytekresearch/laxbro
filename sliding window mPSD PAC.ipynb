{
 "cells": [
  {
   "cell_type": "markdown",
   "metadata": {},
   "source": [
    "#Code to calculate the slope of high gamma and phase-amplitude coupling in ECoG data\n",
    "\n",
    "#####Torben Noto 2015\n",
    "Matlab code for this is available elsewhere on the VoytekResearch Github"
   ]
  },
  {
   "cell_type": "code",
   "execution_count": 16,
   "metadata": {
    "collapsed": false
   },
   "outputs": [
    {
     "name": "stdout",
     "output_type": "stream",
     "text": [
      "Populating the interactive namespace from numpy and matplotlib\n"
     ]
    }
   ],
   "source": [
    "#importing modules\n",
    "%config InlineBackend.figure_format = 'retina'\n",
    "%pylab inline\n",
    "import scipy as sp\n",
    "import numpy as np\n",
    "import pandas as pd\n",
    "import matplotlib.pyplot as plt\n",
    "from itertools import chain\n",
    "import os\n",
    "import scipy.io\n",
    "import scipy.signal\n",
    "from scipy.signal import butter, filtfilt, hilbert\n",
    "import scipy.fftpack"
   ]
  },
  {
   "cell_type": "code",
   "execution_count": 17,
   "metadata": {
    "collapsed": false
   },
   "outputs": [],
   "source": [
    "#importing data\n",
    "filename = 'emodat.mat'; #filename\n",
    "filename = os.path.join('/Users/Torben/Desktop/Voytek_Things/', filename) #path to file\n",
    "data = sp.io.loadmat(filename)\n",
    "srate = 1000 # sampling rate\n",
    "data = data['data'] # 84 channels of ECoG data\n",
    "data = data[0, :] #one channel of ECoG data (can be between 1 and 84)\n",
    "data =  squeeze(data); \n",
    "\n",
    "sw_size = 1000;"
   ]
  },
  {
   "cell_type": "code",
   "execution_count": 18,
   "metadata": {
    "collapsed": false
   },
   "outputs": [],
   "source": [
    "#filtering functions\n",
    "def butter_bandpass(lowcut, highcut, fs, order=4):\n",
    "    #lowcut is the lower bound of the frequency that we want to isolate\n",
    "    #hicut is the upper bound of the frequency that we want to isolate\n",
    "    #fs is the sampling rate of our data\n",
    "    nyq = 0.5 * fs #nyquist frequency - see http://www.dspguide.com/ if you want more info\n",
    "    low = float(lowcut) / nyq\n",
    "    high = float(highcut) / nyq\n",
    "    b, a = butter(order, [low, high], btype='band')\n",
    "    return b, a\n",
    "\n",
    "#This function applies Butterworth filter to data\n",
    "def butter_bandpass_filter(mydata, lowcut, highcut, fs, order=4):\n",
    "    b, a = butter_bandpass(lowcut, highcut, fs, order=order)\n",
    "    y = filtfilt(b, a, mydata)\n",
    "    return y"
   ]
  },
  {
   "cell_type": "code",
   "execution_count": 19,
   "metadata": {
    "collapsed": false
   },
   "outputs": [],
   "source": [
    "#Applying filters on data to get theta and high gamma\n",
    "lo_freq = [4,8];\n",
    "hi_freq = [80, 125];\n",
    "\n",
    "hi_band = butter_bandpass_filter(data, hi_freq[0], hi_freq[1], round(srate))\n",
    "hi_band = abs(hilbert(hi_band))\n",
    "\n",
    "lo_hi_band = butter_bandpass_filter(hi_band, lo_freq[0], lo_freq[1], round(srate));\n",
    "lo_hi_band = angle(hilbert(lo_hi_band));\n",
    "\n",
    "lo_band = butter_bandpass_filter(data, lo_freq[0], lo_freq[1], round(srate))\n",
    "lo_band = angle(hilbert(lo_band));"
   ]
  },
  {
   "cell_type": "code",
   "execution_count": 20,
   "metadata": {
    "collapsed": false
   },
   "outputs": [],
   "source": [
    "#pad data to remove edge artifacts\n",
    "\n",
    "newdat= list(chain(data[sw_size-1::-1],data,data[len(data):len(data)-sw_size-1:-1]))\n",
    "newlo_hi= list(chain(lo_hi_band[sw_size-1::-1],lo_hi_band,lo_hi_band[len(lo_hi_band):len(lo_hi_band)-sw_size-1:-1]))\n",
    "newlo= list(chain(lo_band[sw_size-1::-1],lo_band,lo_band[len(lo_band):len(lo_band)-sw_size-1:-1]))\n",
    "\n",
    "new_lo_hi = list(np.array(newlo_hi) - np.array(newlo))\n",
    "\n",
    "mPSD_dat = np.zeros((len(newdat)));\n",
    "PAC_dat = np.zeros((len(newdat)));"
   ]
  },
  {
   "cell_type": "code",
   "execution_count": 21,
   "metadata": {
    "collapsed": false
   },
   "outputs": [],
   "source": [
    "#parameters to calculate slope of high gamma\n",
    "mPSD_params = [80, 125];\n",
    "\n",
    "# Number of samples in sliding window\n",
    "\n",
    "# sample spacing\n",
    "T = 1.0/srate;\n",
    "x = np.linspace(0.0, sw_size*T, sw_size)\n",
    "\n",
    "#frequencies of fft vals\n",
    "xf = np.linspace(0.0, 1.0/(2.0*T), sw_size/2) \n",
    "xf = floor(xf);\n",
    "\n",
    "#finding closest fx bin to lower fx boundary\n",
    "bin0 = min(xf, key=lambda x:abs(x-mPSD_params[0])); \n",
    "bin0ind = find(xf == bin0);\n",
    "bin0ind = min(bin0ind); #in case there are multiple bins for the same frequency after rounding\n",
    "\n",
    "#finding closest fx bin to upper fx boundary\n",
    "bin1 = min(xf, key=lambda x:abs(x-mPSD_params[1])); \n",
    "bin1ind = find(xf == bin1);\n",
    "bin1ind = min(bin1ind); #in case there are multiple bins for the same frequency after rounding"
   ]
  },
  {
   "cell_type": "code",
   "execution_count": 28,
   "metadata": {
    "collapsed": false
   },
   "outputs": [],
   "source": [
    "#Calculate PSD and PAC over sliding window\n",
    "#This takes a few minutes to run. Increase sw_size in the cell above to speed it up.\n",
    "\n",
    "for i in xrange(len(newdat)-sw_size):\n",
    "    this_window = newdat[i:i+sw_size] * np.hanning(sw_size);\n",
    "    #multiplying by a hanning window to reduce spectral leakage in the fft\n",
    "    #calculating fft\n",
    "    yf = scipy.fftpack.fft(this_window) #fft\n",
    "    yf = log10(abs(yf));\n",
    "    \n",
    "    #finding amplitudes of mPSD frequencies\n",
    "    amp0 = yf[bin0ind];\n",
    "    amp1 = yf[bin1ind];\n",
    "\n",
    "    #solving for slope of fft at slope bounds\n",
    "    a = np.array([[bin0,1], [bin1,1]]); #xvals\n",
    "    b = np.array([amp0,amp1]); #yvals\n",
    "    m = np.linalg.solve(a, b);\n",
    "    mPSD_dat[i] = m[0]; #m[0] is slope m[1] is y intercept\n",
    "\n",
    "    #calculating PAC\n",
    "    temp = new_lo_hi[i:i+sw_size];\n",
    "    PAC_dat[i] = abs(sum(exp(dot(1j, temp)))) / len(temp); #Calculating circular mean of phase/amp difference to get PAC\n"
   ]
  },
  {
   "cell_type": "code",
   "execution_count": 27,
   "metadata": {
    "collapsed": false
   },
   "outputs": [
    {
     "name": "stdout",
     "output_type": "stream",
     "text": [
      "1477035\n",
      "1475036\n"
     ]
    }
   ],
   "source": [
    "print len(newdat)-sw_size\n",
    "print i\n"
   ]
  },
  {
   "cell_type": "code",
   "execution_count": 48,
   "metadata": {
    "collapsed": false
   },
   "outputs": [],
   "source": [
    "#remove padding \n",
    "mPSD_dat = mPSD_dat[sw_size:];\n",
    "mPSD_dat = mPSD_dat[:sw_size];\n",
    "\n",
    "PAC_dat = PAC_dat[sw_size:];\n",
    "PAC_dat = PAC_dat[:sw_size];"
   ]
  },
  {
   "cell_type": "code",
   "execution_count": 49,
   "metadata": {
    "collapsed": false
   },
   "outputs": [
    {
     "name": "stdout",
     "output_type": "stream",
     "text": [
      "Correlation between PAC and slope of high gamma\n"
     ]
    },
    {
     "data": {
      "text/plain": [
       "[<matplotlib.lines.Line2D at 0x10b3aa4d0>]"
      ]
     },
     "execution_count": 49,
     "metadata": {},
     "output_type": "execute_result"
    },
    {
     "data": {
      "image/png": "[encoded data removed]",
      "text/plain": [
       "<matplotlib.figure.Figure at 0x108c2fa90>"
      ]
     },
     "metadata": {
      "image/png": {
       "height": 255,
       "width": 392
      }
     },
     "output_type": "display_data"
    }
   ],
   "source": [
    "c = np.correlate(PAC_dat,mPSD_dat) #find correlation between PAC and dHG\n",
    "print 'Correlation between PAC and slope of high gamma'\n",
    "plot(mPSD_dat,PAC_dat,'.')"
   ]
  }
 ],
 "metadata": {
  "kernelspec": {
   "display_name": "Python 2",
   "language": "python",
   "name": "python2"
  },
  "language_info": {
   "codemirror_mode": {
    "name": "ipython",
    "version": 2
   },
   "file_extension": ".py",
   "mimetype": "text/x-python",
   "name": "python",
   "nbconvert_exporter": "python",
   "pygments_lexer": "ipython2",
   "version": "2.7.9"
  }
 },
 "nbformat": 4,
 "nbformat_minor": 0
}
