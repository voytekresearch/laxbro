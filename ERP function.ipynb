{
 "cells": [
  {
   "cell_type": "code",
   "execution_count": 1,
   "metadata": {
    "collapsed": true
   },
   "outputs": [],
   "source": [
    "\n",
    "\n",
    "#ERP function\n",
    "def ERP(data, srate, event_inds, before, after, baselineWindow = 0):\n",
    "    #define time window\n",
    "    before_ind = int(round((float(before) / 1000) * srate))\n",
    "    after_ind = int(round((float(after) / 1000) * srate))\n",
    "    #initialize ERP\n",
    "    ERP_mean = [0] *int(floor(abs(before_ind) + abs(after_ind) + 1))\n",
    "    size_of_mean = size(ERP_mean)\n",
    "    size_of_event_inds = size(event_inds)\n",
    "    \n",
    "    #intitialize ERP Matrix\n",
    "    ERP_mat = [[0 for k in xrange(size_of_mean)] for j in xrange(size_of_event_inds)]\n",
    "    #fill ERP_matrix with equal time epochs\n",
    "    for x in range(size(event_inds)):\n",
    "        ERP_mat[x]=[range(event_inds[x]- abs(before_ind), event_inds[x] +abs(after_ind)+1)]\n",
    "        #Fill data into time epochs\n",
    "        temp = []\n",
    "        for y in ERP_mat[x]:\n",
    "            temp.append(data[y])\n",
    "            ERP_mat[x] = temp\n",
    "    #fill data in baseline Window before each event\n",
    "    if baselineWindow is not 0:\n",
    "        #initialize baseline time window\n",
    "        baselineVals =  [0]*abs(baselineWindow[1]-baselineWindow[0]) \n",
    "        base_mat = [[0 for k in baselineVals] for j in xrange(size_of_event_inds)]\n",
    "        for x in range(size(event_inds)):\n",
    "            base_mat[x]=[range(event_inds[x]- abs(baselineWindow[0]), event_inds[x] +abs(baselineWindow[1])+1)]\n",
    "        temp = []\n",
    "        for y in base_mat[x]:\n",
    "            temp.append(data[y])\n",
    "            base_mat[x] = temp\n",
    "        base_means = np.squeeze(np.mean(base_mat,2))\n",
    "    \n",
    "        #subtract baseline from ERP_mat\n",
    "        for x in range(size(event_inds)):\n",
    "            ERP_mat[x]=[y - base_means[x] for y in ERP_mat[x]]\n",
    "    #subtract baseline from mean \n",
    "    ERP_mean = np.squeeze(np.mean(ERP_mat,0))\n",
    "    ERP_mat = np.squeeze(ERP_mat)\n",
    "    #everything = [adjusted_ERP_mean, adjusted_ERP_mat, ERP_prc]\n",
    "    return ERP_mean, ERP_mat"
   ]
  },
  {
   "cell_type": "code",
   "execution_count": null,
   "metadata": {
    "collapsed": true
   },
   "outputs": [],
   "source": []
  }
 ],
 "metadata": {
  "kernelspec": {
   "display_name": "Python 2",
   "language": "python",
   "name": "python2"
  },
  "language_info": {
   "codemirror_mode": {
    "name": "ipython",
    "version": 2
   },
   "file_extension": ".py",
   "mimetype": "text/x-python",
   "name": "python",
   "nbconvert_exporter": "python",
   "pygments_lexer": "ipython2",
   "version": "2.7.9"
  }
 },
 "nbformat": 4,
 "nbformat_minor": 0
}
